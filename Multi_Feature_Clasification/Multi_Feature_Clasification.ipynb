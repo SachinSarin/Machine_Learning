{
  "nbformat": 4,
  "nbformat_minor": 0,
  "metadata": {
    "colab": {
      "name": "MultiFeature-clasification.ipynb",
      "provenance": [],
      "collapsed_sections": [],
      "include_colab_link": true
    },
    "kernelspec": {
      "name": "python3",
      "display_name": "Python 3"
    },
    "language_info": {
      "name": "python"
    }
  },
  "cells": [
    {
      "cell_type": "markdown",
      "metadata": {
        "id": "view-in-github",
        "colab_type": "text"
      },
      "source": [
        "<a href=\"https://colab.research.google.com/github/SachinSarin/Machine_Learning/blob/master/Multi_Feature_Clasification.ipynb\" target=\"_parent\"><img src=\"https://colab.research.google.com/assets/colab-badge.svg\" alt=\"Open In Colab\"/></a>"
      ]
    },
    {
      "cell_type": "code",
      "metadata": {
        "id": "oVlXhk1dEtZC"
      },
      "source": [
        "from sklearn.naive_bayes import GaussianNB\n",
        "from sklearn import preprocessing"
      ],
      "execution_count": null,
      "outputs": []
    },
    {
      "cell_type": "code",
      "metadata": {
        "id": "7lsACX0THbFd"
      },
      "source": [
        "chills = [\"Y\",\"Y\",\"Y\",\"N\",\"N\",\"N\",\"N\",\"Y\"]\n",
        "runnynose = [\"N\",\"Y\",\"N\",\"Y\",\"N\",\"Y\",\"Y\",\"Y\"]\n",
        "headache = [\"M\",\"N\",\"S\",\"M\",\"N\",\"S\",\"S\",\"M\"]\n",
        "fever = [\"Y\",\"N\",\"Y\",\"Y\",\"N\",\"Y\",\"N\",\"Y\"]\n",
        "flu = [\"N\",\"Y\",\"Y\",\"Y\",\"N\",\"Y\",\"N\",\"Y\"]"
      ],
      "execution_count": null,
      "outputs": []
    },
    {
      "cell_type": "code",
      "metadata": {
        "id": "_WmMYw5mHc3b"
      },
      "source": [
        "le = preprocessing.LabelEncoder()"
      ],
      "execution_count": null,
      "outputs": []
    },
    {
      "cell_type": "code",
      "metadata": {
        "id": "hMq2MkHcHewz"
      },
      "source": [
        "chills_encoded=le.fit_transform(chills)\n",
        "runnynose_encoded = le.fit_transform(runnynose)\n",
        "headache_encoded = le.fit_transform(headache)\n",
        "fever_encoded = le.fit_transform(fever)\n",
        "flu_encoded = le.fit_transform(flu)"
      ],
      "execution_count": null,
      "outputs": []
    },
    {
      "cell_type": "code",
      "metadata": {
        "colab": {
          "base_uri": "https://localhost:8080/"
        },
        "id": "zWdOMHUIHgNb",
        "outputId": "284aed0e-1fb4-4bc1-d066-472f90b47979"
      },
      "source": [
        "print(chills_encoded)\n",
        "print(runnynose_encoded)\n",
        "print(headache_encoded)\n",
        "print(fever_encoded)\n",
        "print(flu_encoded) "
      ],
      "execution_count": null,
      "outputs": [
        {
          "output_type": "stream",
          "text": [
            "[1 1 1 0 0 0 0 1]\n",
            "[0 1 0 1 0 1 1 1]\n",
            "[0 1 2 0 1 2 2 0]\n",
            "[1 0 1 1 0 1 0 1]\n",
            "[0 1 1 1 0 1 0 1]\n"
          ],
          "name": "stdout"
        }
      ]
    },
    {
      "cell_type": "code",
      "metadata": {
        "id": "mhDGdQmYHknd"
      },
      "source": [
        "model = GaussianNB()"
      ],
      "execution_count": null,
      "outputs": []
    },
    {
      "cell_type": "code",
      "metadata": {
        "colab": {
          "base_uri": "https://localhost:8080/"
        },
        "id": "p3g5Y2wSHmgi",
        "outputId": "5275f89e-267d-468e-947c-e3d65c5f986f"
      },
      "source": [
        "features = zip(chills_encoded,runnynose_encoded,headache_encoded,fever_encoded)\n",
        "features = tuple(features)\n",
        "print(features)"
      ],
      "execution_count": null,
      "outputs": [
        {
          "output_type": "stream",
          "text": [
            "((1, 0, 0, 1), (1, 1, 1, 0), (1, 0, 2, 1), (0, 1, 0, 1), (0, 0, 1, 0), (0, 1, 2, 1), (0, 1, 2, 0), (1, 1, 0, 1))\n"
          ],
          "name": "stdout"
        }
      ]
    },
    {
      "cell_type": "code",
      "metadata": {
        "colab": {
          "base_uri": "https://localhost:8080/"
        },
        "id": "ZyNhQaxjHn-K",
        "outputId": "141de720-0d76-47c6-839b-a8777436b26a"
      },
      "source": [
        "model.fit(features,flu)"
      ],
      "execution_count": null,
      "outputs": [
        {
          "output_type": "execute_result",
          "data": {
            "text/plain": [
              "GaussianNB(priors=None, var_smoothing=1e-09)"
            ]
          },
          "metadata": {
            "tags": []
          },
          "execution_count": 8
        }
      ]
    },
    {
      "cell_type": "code",
      "metadata": {
        "id": "trVb61rqHpwl"
      },
      "source": [
        "predicted= model.predict([[1,0,0,0]])   "
      ],
      "execution_count": null,
      "outputs": []
    },
    {
      "cell_type": "code",
      "metadata": {
        "colab": {
          "base_uri": "https://localhost:8080/"
        },
        "id": "VZ-6VHjHHrSS",
        "outputId": "632db934-81a3-4188-e9e1-19cfb3996e13"
      },
      "source": [
        "print(predicted)"
      ],
      "execution_count": null,
      "outputs": [
        {
          "output_type": "stream",
          "text": [
            "['N']\n"
          ],
          "name": "stdout"
        }
      ]
    },
    {
      "cell_type": "code",
      "metadata": {
        "id": "mVrxaMb6HtF2"
      },
      "source": [
        ""
      ],
      "execution_count": null,
      "outputs": []
    }
  ]
}
