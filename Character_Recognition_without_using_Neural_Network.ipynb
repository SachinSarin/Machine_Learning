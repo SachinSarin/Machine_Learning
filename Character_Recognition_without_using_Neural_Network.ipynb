{
  "nbformat": 4,
  "nbformat_minor": 0,
  "metadata": {
    "colab": {
      "name": "Untitled6.ipynb",
      "provenance": [],
      "authorship_tag": "ABX9TyOnDO3/+HMeD7sNzwMKju9t",
      "include_colab_link": true
    },
    "kernelspec": {
      "name": "python3",
      "display_name": "Python 3"
    },
    "language_info": {
      "name": "python"
    }
  },
  "cells": [
    {
      "cell_type": "markdown",
      "metadata": {
        "id": "view-in-github",
        "colab_type": "text"
      },
      "source": [
        "<a href=\"https://colab.research.google.com/github/SachinSarin/Machine_Learning/blob/master/Character_Recognition_without_using_Neural_Network.ipynb\" target=\"_parent\"><img src=\"https://colab.research.google.com/assets/colab-badge.svg\" alt=\"Open In Colab\"/></a>"
      ]
    },
    {
      "cell_type": "code",
      "metadata": {
        "id": "qtfaobW3tnxL"
      },
      "source": [
        "import cv2"
      ],
      "execution_count": 6,
      "outputs": []
    },
    {
      "cell_type": "code",
      "metadata": {
        "colab": {
          "base_uri": "https://localhost:8080/"
        },
        "id": "R_TxB3A0t4yE",
        "outputId": "186ff5f2-13c2-47e9-d879-86f15640b2b0"
      },
      "source": [
        "!pip install pytesseract\n"
      ],
      "execution_count": 7,
      "outputs": [
        {
          "output_type": "stream",
          "text": [
            "Requirement already satisfied: pytesseract in /usr/local/lib/python3.7/dist-packages (0.3.7)\n",
            "Requirement already satisfied: Pillow in /usr/local/lib/python3.7/dist-packages (from pytesseract) (7.1.2)\n"
          ],
          "name": "stdout"
        }
      ]
    },
    {
      "cell_type": "code",
      "metadata": {
        "colab": {
          "base_uri": "https://localhost:8080/"
        },
        "id": "nWNxXPam6qVl",
        "outputId": "d5345e2f-587d-4376-c290-0572fc8d00f7"
      },
      "source": [
        "!sudo apt install tesseract-ocr\n"
      ],
      "execution_count": 8,
      "outputs": [
        {
          "output_type": "stream",
          "text": [
            "Reading package lists... Done\n",
            "Building dependency tree       \n",
            "Reading state information... Done\n",
            "tesseract-ocr is already the newest version (4.00~git2288-10f4998a-2).\n",
            "0 upgraded, 0 newly installed, 0 to remove and 39 not upgraded.\n"
          ],
          "name": "stdout"
        }
      ]
    },
    {
      "cell_type": "code",
      "metadata": {
        "colab": {
          "base_uri": "https://localhost:8080/"
        },
        "id": "5D1oD0ow7DqU",
        "outputId": "378ecf99-9509-4c3d-e297-496cd9d32fa3"
      },
      "source": [
        "!which tesseract\n"
      ],
      "execution_count": 9,
      "outputs": [
        {
          "output_type": "stream",
          "text": [
            "/usr/bin/tesseract\n"
          ],
          "name": "stdout"
        }
      ]
    },
    {
      "cell_type": "code",
      "metadata": {
        "id": "JnBPnSOhKxdj"
      },
      "source": [
        ""
      ],
      "execution_count": 9,
      "outputs": []
    },
    {
      "cell_type": "code",
      "metadata": {
        "id": "BCJOuM0Ft5C3"
      },
      "source": [
        "import pytesseract"
      ],
      "execution_count": 10,
      "outputs": []
    },
    {
      "cell_type": "code",
      "metadata": {
        "id": "Zqwi4jw91YAt"
      },
      "source": [
        "img = cv2.imread('/content/sample_data/img.png')"
      ],
      "execution_count": 11,
      "outputs": []
    },
    {
      "cell_type": "code",
      "metadata": {
        "id": "26rrJ4p6t8JA"
      },
      "source": [
        "def ocr_core(img):\n",
        "  \n",
        "  text = pytesseract.image_to_string(img)\n",
        "  return text"
      ],
      "execution_count": 12,
      "outputs": []
    },
    {
      "cell_type": "code",
      "metadata": {
        "id": "Z2L25tTyt8kW"
      },
      "source": [
        ""
      ],
      "execution_count": 12,
      "outputs": []
    },
    {
      "cell_type": "code",
      "metadata": {
        "id": "L9Bj0Galt-PR"
      },
      "source": [
        "def get_grayscale(image):\n",
        "  return cv2.cvtColor(image,cv2.COLOR_BGR2GRAY)"
      ],
      "execution_count": 13,
      "outputs": []
    },
    {
      "cell_type": "code",
      "metadata": {
        "id": "KcI6YDOcuBwH"
      },
      "source": [
        "def remove_noide(image):\n",
        "  return cv2.medianBlur(image,5)"
      ],
      "execution_count": 14,
      "outputs": []
    },
    {
      "cell_type": "code",
      "metadata": {
        "id": "cMGiAo1ruDHX"
      },
      "source": [
        "def thresholding(image):\n",
        "  return cv2.threshold(image,0,255,cv2.THRESH_BINARY + cv2.THRESH_OTSU)[1]"
      ],
      "execution_count": 15,
      "outputs": []
    },
    {
      "cell_type": "code",
      "metadata": {
        "id": "2GVSA-l3uFLG"
      },
      "source": [
        "img = get_grayscale(img)\n",
        "img = thresholding(img)\n",
        "img = remove_noide(img)"
      ],
      "execution_count": 16,
      "outputs": []
    },
    {
      "cell_type": "code",
      "metadata": {
        "colab": {
          "base_uri": "https://localhost:8080/"
        },
        "id": "wqyW_j1ZuGkE",
        "outputId": "b930c64c-09f6-479b-d9bb-08e632025b29"
      },
      "source": [
        "print(ocr_core(img))"
      ],
      "execution_count": 17,
      "outputs": [
        {
          "output_type": "stream",
          "text": [
            "django\n",
            "\f\n"
          ],
          "name": "stdout"
        }
      ]
    }
  ]
}